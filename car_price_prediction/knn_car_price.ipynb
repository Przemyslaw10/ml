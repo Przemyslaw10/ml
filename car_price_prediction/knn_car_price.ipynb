{
 "cells": [
  {
   "cell_type": "code",
   "execution_count": 1,
   "metadata": {
    "ExecuteTime": {
     "end_time": "2020-03-26T21:29:21.784629Z",
     "start_time": "2020-03-26T21:29:21.128319Z"
    }
   },
   "outputs": [],
   "source": [
    "import re\n",
    "import pandas as pd\n",
    "import numpy as np\n",
    "from collections import defaultdict\n",
    "from sklearn.neighbors import KNeighborsRegressor\n",
    "from sklearn.model_selection import KFold, cross_val_score\n",
    "from sklearn.metrics import mean_squared_error\n",
    "import matplotlib.pyplot as plt\n",
    "%matplotlib inline"
   ]
  },
  {
   "cell_type": "code",
   "execution_count": 2,
   "metadata": {
    "ExecuteTime": {
     "end_time": "2020-03-26T21:29:22.788277Z",
     "start_time": "2020-03-26T21:29:22.785589Z"
    }
   },
   "outputs": [],
   "source": [
    "cols  = ['symboling', 'normalized_losses', 'make', 'fuel_type', 'aspiration', 'num_doors', 'body_style',\n",
    "         'drive_wheels', 'engine_location', 'wheel_base', 'length', 'width', 'height', 'curb_weight',\n",
    "         'engine_type', 'num_cylinders', 'engine_size', 'fuel_system', 'bore', 'stroke', 'compression_ratio',\n",
    "         'horsepower', 'peak_rpm', 'city_mpg', 'highway_mpg', 'price'] \n",
    "\n",
    "pd.set_option('display.max_columns', len(cols))"
   ]
  },
  {
   "cell_type": "code",
   "execution_count": 3,
   "metadata": {
    "ExecuteTime": {
     "end_time": "2020-03-26T21:29:23.573547Z",
     "start_time": "2020-03-26T21:29:23.542713Z"
    }
   },
   "outputs": [],
   "source": [
    "cars = pd.read_csv('imports-85.data', names=cols)"
   ]
  },
  {
   "cell_type": "code",
   "execution_count": 4,
   "metadata": {
    "ExecuteTime": {
     "end_time": "2020-03-26T21:29:24.730335Z",
     "start_time": "2020-03-26T21:29:24.691025Z"
    }
   },
   "outputs": [
    {
     "data": {
      "text/html": [
       "<div>\n",
       "<style scoped>\n",
       "    .dataframe tbody tr th:only-of-type {\n",
       "        vertical-align: middle;\n",
       "    }\n",
       "\n",
       "    .dataframe tbody tr th {\n",
       "        vertical-align: top;\n",
       "    }\n",
       "\n",
       "    .dataframe thead th {\n",
       "        text-align: right;\n",
       "    }\n",
       "</style>\n",
       "<table border=\"1\" class=\"dataframe\">\n",
       "  <thead>\n",
       "    <tr style=\"text-align: right;\">\n",
       "      <th></th>\n",
       "      <th>symboling</th>\n",
       "      <th>normalized_losses</th>\n",
       "      <th>make</th>\n",
       "      <th>fuel_type</th>\n",
       "      <th>aspiration</th>\n",
       "      <th>num_doors</th>\n",
       "      <th>body_style</th>\n",
       "      <th>drive_wheels</th>\n",
       "      <th>engine_location</th>\n",
       "      <th>wheel_base</th>\n",
       "      <th>length</th>\n",
       "      <th>width</th>\n",
       "      <th>height</th>\n",
       "      <th>curb_weight</th>\n",
       "      <th>engine_type</th>\n",
       "      <th>num_cylinders</th>\n",
       "      <th>engine_size</th>\n",
       "      <th>fuel_system</th>\n",
       "      <th>bore</th>\n",
       "      <th>stroke</th>\n",
       "      <th>compression_ratio</th>\n",
       "      <th>horsepower</th>\n",
       "      <th>peak_rpm</th>\n",
       "      <th>city_mpg</th>\n",
       "      <th>highway_mpg</th>\n",
       "      <th>price</th>\n",
       "    </tr>\n",
       "  </thead>\n",
       "  <tbody>\n",
       "    <tr>\n",
       "      <td>0</td>\n",
       "      <td>3</td>\n",
       "      <td>?</td>\n",
       "      <td>alfa-romero</td>\n",
       "      <td>gas</td>\n",
       "      <td>std</td>\n",
       "      <td>two</td>\n",
       "      <td>convertible</td>\n",
       "      <td>rwd</td>\n",
       "      <td>front</td>\n",
       "      <td>88.6</td>\n",
       "      <td>168.8</td>\n",
       "      <td>64.1</td>\n",
       "      <td>48.8</td>\n",
       "      <td>2548</td>\n",
       "      <td>dohc</td>\n",
       "      <td>four</td>\n",
       "      <td>130</td>\n",
       "      <td>mpfi</td>\n",
       "      <td>3.47</td>\n",
       "      <td>2.68</td>\n",
       "      <td>9.0</td>\n",
       "      <td>111</td>\n",
       "      <td>5000</td>\n",
       "      <td>21</td>\n",
       "      <td>27</td>\n",
       "      <td>13495</td>\n",
       "    </tr>\n",
       "    <tr>\n",
       "      <td>1</td>\n",
       "      <td>3</td>\n",
       "      <td>?</td>\n",
       "      <td>alfa-romero</td>\n",
       "      <td>gas</td>\n",
       "      <td>std</td>\n",
       "      <td>two</td>\n",
       "      <td>convertible</td>\n",
       "      <td>rwd</td>\n",
       "      <td>front</td>\n",
       "      <td>88.6</td>\n",
       "      <td>168.8</td>\n",
       "      <td>64.1</td>\n",
       "      <td>48.8</td>\n",
       "      <td>2548</td>\n",
       "      <td>dohc</td>\n",
       "      <td>four</td>\n",
       "      <td>130</td>\n",
       "      <td>mpfi</td>\n",
       "      <td>3.47</td>\n",
       "      <td>2.68</td>\n",
       "      <td>9.0</td>\n",
       "      <td>111</td>\n",
       "      <td>5000</td>\n",
       "      <td>21</td>\n",
       "      <td>27</td>\n",
       "      <td>16500</td>\n",
       "    </tr>\n",
       "    <tr>\n",
       "      <td>2</td>\n",
       "      <td>1</td>\n",
       "      <td>?</td>\n",
       "      <td>alfa-romero</td>\n",
       "      <td>gas</td>\n",
       "      <td>std</td>\n",
       "      <td>two</td>\n",
       "      <td>hatchback</td>\n",
       "      <td>rwd</td>\n",
       "      <td>front</td>\n",
       "      <td>94.5</td>\n",
       "      <td>171.2</td>\n",
       "      <td>65.5</td>\n",
       "      <td>52.4</td>\n",
       "      <td>2823</td>\n",
       "      <td>ohcv</td>\n",
       "      <td>six</td>\n",
       "      <td>152</td>\n",
       "      <td>mpfi</td>\n",
       "      <td>2.68</td>\n",
       "      <td>3.47</td>\n",
       "      <td>9.0</td>\n",
       "      <td>154</td>\n",
       "      <td>5000</td>\n",
       "      <td>19</td>\n",
       "      <td>26</td>\n",
       "      <td>16500</td>\n",
       "    </tr>\n",
       "    <tr>\n",
       "      <td>3</td>\n",
       "      <td>2</td>\n",
       "      <td>164</td>\n",
       "      <td>audi</td>\n",
       "      <td>gas</td>\n",
       "      <td>std</td>\n",
       "      <td>four</td>\n",
       "      <td>sedan</td>\n",
       "      <td>fwd</td>\n",
       "      <td>front</td>\n",
       "      <td>99.8</td>\n",
       "      <td>176.6</td>\n",
       "      <td>66.2</td>\n",
       "      <td>54.3</td>\n",
       "      <td>2337</td>\n",
       "      <td>ohc</td>\n",
       "      <td>four</td>\n",
       "      <td>109</td>\n",
       "      <td>mpfi</td>\n",
       "      <td>3.19</td>\n",
       "      <td>3.40</td>\n",
       "      <td>10.0</td>\n",
       "      <td>102</td>\n",
       "      <td>5500</td>\n",
       "      <td>24</td>\n",
       "      <td>30</td>\n",
       "      <td>13950</td>\n",
       "    </tr>\n",
       "    <tr>\n",
       "      <td>4</td>\n",
       "      <td>2</td>\n",
       "      <td>164</td>\n",
       "      <td>audi</td>\n",
       "      <td>gas</td>\n",
       "      <td>std</td>\n",
       "      <td>four</td>\n",
       "      <td>sedan</td>\n",
       "      <td>4wd</td>\n",
       "      <td>front</td>\n",
       "      <td>99.4</td>\n",
       "      <td>176.6</td>\n",
       "      <td>66.4</td>\n",
       "      <td>54.3</td>\n",
       "      <td>2824</td>\n",
       "      <td>ohc</td>\n",
       "      <td>five</td>\n",
       "      <td>136</td>\n",
       "      <td>mpfi</td>\n",
       "      <td>3.19</td>\n",
       "      <td>3.40</td>\n",
       "      <td>8.0</td>\n",
       "      <td>115</td>\n",
       "      <td>5500</td>\n",
       "      <td>18</td>\n",
       "      <td>22</td>\n",
       "      <td>17450</td>\n",
       "    </tr>\n",
       "  </tbody>\n",
       "</table>\n",
       "</div>"
      ],
      "text/plain": [
       "   symboling normalized_losses         make fuel_type aspiration num_doors  \\\n",
       "0          3                 ?  alfa-romero       gas        std       two   \n",
       "1          3                 ?  alfa-romero       gas        std       two   \n",
       "2          1                 ?  alfa-romero       gas        std       two   \n",
       "3          2               164         audi       gas        std      four   \n",
       "4          2               164         audi       gas        std      four   \n",
       "\n",
       "    body_style drive_wheels engine_location  wheel_base  length  width  \\\n",
       "0  convertible          rwd           front        88.6   168.8   64.1   \n",
       "1  convertible          rwd           front        88.6   168.8   64.1   \n",
       "2    hatchback          rwd           front        94.5   171.2   65.5   \n",
       "3        sedan          fwd           front        99.8   176.6   66.2   \n",
       "4        sedan          4wd           front        99.4   176.6   66.4   \n",
       "\n",
       "   height  curb_weight engine_type num_cylinders  engine_size fuel_system  \\\n",
       "0    48.8         2548        dohc          four          130        mpfi   \n",
       "1    48.8         2548        dohc          four          130        mpfi   \n",
       "2    52.4         2823        ohcv           six          152        mpfi   \n",
       "3    54.3         2337         ohc          four          109        mpfi   \n",
       "4    54.3         2824         ohc          five          136        mpfi   \n",
       "\n",
       "   bore stroke  compression_ratio horsepower peak_rpm  city_mpg  highway_mpg  \\\n",
       "0  3.47   2.68                9.0        111     5000        21           27   \n",
       "1  3.47   2.68                9.0        111     5000        21           27   \n",
       "2  2.68   3.47                9.0        154     5000        19           26   \n",
       "3  3.19   3.40               10.0        102     5500        24           30   \n",
       "4  3.19   3.40                8.0        115     5500        18           22   \n",
       "\n",
       "   price  \n",
       "0  13495  \n",
       "1  16500  \n",
       "2  16500  \n",
       "3  13950  \n",
       "4  17450  "
      ]
     },
     "execution_count": 4,
     "metadata": {},
     "output_type": "execute_result"
    }
   ],
   "source": [
    "cars.head()"
   ]
  },
  {
   "cell_type": "code",
   "execution_count": 5,
   "metadata": {
    "ExecuteTime": {
     "end_time": "2020-03-26T21:29:26.728553Z",
     "start_time": "2020-03-26T21:29:26.690202Z"
    }
   },
   "outputs": [
    {
     "data": {
      "text/html": [
       "<div>\n",
       "<style scoped>\n",
       "    .dataframe tbody tr th:only-of-type {\n",
       "        vertical-align: middle;\n",
       "    }\n",
       "\n",
       "    .dataframe tbody tr th {\n",
       "        vertical-align: top;\n",
       "    }\n",
       "\n",
       "    .dataframe thead th {\n",
       "        text-align: right;\n",
       "    }\n",
       "</style>\n",
       "<table border=\"1\" class=\"dataframe\">\n",
       "  <thead>\n",
       "    <tr style=\"text-align: right;\">\n",
       "      <th></th>\n",
       "      <th>symboling</th>\n",
       "      <th>wheel_base</th>\n",
       "      <th>length</th>\n",
       "      <th>width</th>\n",
       "      <th>height</th>\n",
       "      <th>curb_weight</th>\n",
       "      <th>engine_size</th>\n",
       "      <th>compression_ratio</th>\n",
       "      <th>city_mpg</th>\n",
       "      <th>highway_mpg</th>\n",
       "    </tr>\n",
       "  </thead>\n",
       "  <tbody>\n",
       "    <tr>\n",
       "      <td>count</td>\n",
       "      <td>205.000000</td>\n",
       "      <td>205.000000</td>\n",
       "      <td>205.000000</td>\n",
       "      <td>205.000000</td>\n",
       "      <td>205.000000</td>\n",
       "      <td>205.000000</td>\n",
       "      <td>205.000000</td>\n",
       "      <td>205.000000</td>\n",
       "      <td>205.000000</td>\n",
       "      <td>205.000000</td>\n",
       "    </tr>\n",
       "    <tr>\n",
       "      <td>mean</td>\n",
       "      <td>0.834146</td>\n",
       "      <td>98.756585</td>\n",
       "      <td>174.049268</td>\n",
       "      <td>65.907805</td>\n",
       "      <td>53.724878</td>\n",
       "      <td>2555.565854</td>\n",
       "      <td>126.907317</td>\n",
       "      <td>10.142537</td>\n",
       "      <td>25.219512</td>\n",
       "      <td>30.751220</td>\n",
       "    </tr>\n",
       "    <tr>\n",
       "      <td>std</td>\n",
       "      <td>1.245307</td>\n",
       "      <td>6.021776</td>\n",
       "      <td>12.337289</td>\n",
       "      <td>2.145204</td>\n",
       "      <td>2.443522</td>\n",
       "      <td>520.680204</td>\n",
       "      <td>41.642693</td>\n",
       "      <td>3.972040</td>\n",
       "      <td>6.542142</td>\n",
       "      <td>6.886443</td>\n",
       "    </tr>\n",
       "    <tr>\n",
       "      <td>min</td>\n",
       "      <td>-2.000000</td>\n",
       "      <td>86.600000</td>\n",
       "      <td>141.100000</td>\n",
       "      <td>60.300000</td>\n",
       "      <td>47.800000</td>\n",
       "      <td>1488.000000</td>\n",
       "      <td>61.000000</td>\n",
       "      <td>7.000000</td>\n",
       "      <td>13.000000</td>\n",
       "      <td>16.000000</td>\n",
       "    </tr>\n",
       "    <tr>\n",
       "      <td>25%</td>\n",
       "      <td>0.000000</td>\n",
       "      <td>94.500000</td>\n",
       "      <td>166.300000</td>\n",
       "      <td>64.100000</td>\n",
       "      <td>52.000000</td>\n",
       "      <td>2145.000000</td>\n",
       "      <td>97.000000</td>\n",
       "      <td>8.600000</td>\n",
       "      <td>19.000000</td>\n",
       "      <td>25.000000</td>\n",
       "    </tr>\n",
       "    <tr>\n",
       "      <td>50%</td>\n",
       "      <td>1.000000</td>\n",
       "      <td>97.000000</td>\n",
       "      <td>173.200000</td>\n",
       "      <td>65.500000</td>\n",
       "      <td>54.100000</td>\n",
       "      <td>2414.000000</td>\n",
       "      <td>120.000000</td>\n",
       "      <td>9.000000</td>\n",
       "      <td>24.000000</td>\n",
       "      <td>30.000000</td>\n",
       "    </tr>\n",
       "    <tr>\n",
       "      <td>75%</td>\n",
       "      <td>2.000000</td>\n",
       "      <td>102.400000</td>\n",
       "      <td>183.100000</td>\n",
       "      <td>66.900000</td>\n",
       "      <td>55.500000</td>\n",
       "      <td>2935.000000</td>\n",
       "      <td>141.000000</td>\n",
       "      <td>9.400000</td>\n",
       "      <td>30.000000</td>\n",
       "      <td>34.000000</td>\n",
       "    </tr>\n",
       "    <tr>\n",
       "      <td>max</td>\n",
       "      <td>3.000000</td>\n",
       "      <td>120.900000</td>\n",
       "      <td>208.100000</td>\n",
       "      <td>72.300000</td>\n",
       "      <td>59.800000</td>\n",
       "      <td>4066.000000</td>\n",
       "      <td>326.000000</td>\n",
       "      <td>23.000000</td>\n",
       "      <td>49.000000</td>\n",
       "      <td>54.000000</td>\n",
       "    </tr>\n",
       "  </tbody>\n",
       "</table>\n",
       "</div>"
      ],
      "text/plain": [
       "        symboling  wheel_base      length       width      height  \\\n",
       "count  205.000000  205.000000  205.000000  205.000000  205.000000   \n",
       "mean     0.834146   98.756585  174.049268   65.907805   53.724878   \n",
       "std      1.245307    6.021776   12.337289    2.145204    2.443522   \n",
       "min     -2.000000   86.600000  141.100000   60.300000   47.800000   \n",
       "25%      0.000000   94.500000  166.300000   64.100000   52.000000   \n",
       "50%      1.000000   97.000000  173.200000   65.500000   54.100000   \n",
       "75%      2.000000  102.400000  183.100000   66.900000   55.500000   \n",
       "max      3.000000  120.900000  208.100000   72.300000   59.800000   \n",
       "\n",
       "       curb_weight  engine_size  compression_ratio    city_mpg  highway_mpg  \n",
       "count   205.000000   205.000000         205.000000  205.000000   205.000000  \n",
       "mean   2555.565854   126.907317          10.142537   25.219512    30.751220  \n",
       "std     520.680204    41.642693           3.972040    6.542142     6.886443  \n",
       "min    1488.000000    61.000000           7.000000   13.000000    16.000000  \n",
       "25%    2145.000000    97.000000           8.600000   19.000000    25.000000  \n",
       "50%    2414.000000   120.000000           9.000000   24.000000    30.000000  \n",
       "75%    2935.000000   141.000000           9.400000   30.000000    34.000000  \n",
       "max    4066.000000   326.000000          23.000000   49.000000    54.000000  "
      ]
     },
     "execution_count": 5,
     "metadata": {},
     "output_type": "execute_result"
    }
   ],
   "source": [
    "cars.describe()"
   ]
  },
  {
   "cell_type": "code",
   "execution_count": 6,
   "metadata": {
    "ExecuteTime": {
     "end_time": "2020-03-26T21:29:28.068754Z",
     "start_time": "2020-03-26T21:29:28.062354Z"
    }
   },
   "outputs": [
    {
     "name": "stdout",
     "output_type": "stream",
     "text": [
      "<class 'pandas.core.frame.DataFrame'>\n",
      "RangeIndex: 205 entries, 0 to 204\n",
      "Data columns (total 26 columns):\n",
      "symboling            205 non-null int64\n",
      "normalized_losses    205 non-null object\n",
      "make                 205 non-null object\n",
      "fuel_type            205 non-null object\n",
      "aspiration           205 non-null object\n",
      "num_doors            205 non-null object\n",
      "body_style           205 non-null object\n",
      "drive_wheels         205 non-null object\n",
      "engine_location      205 non-null object\n",
      "wheel_base           205 non-null float64\n",
      "length               205 non-null float64\n",
      "width                205 non-null float64\n",
      "height               205 non-null float64\n",
      "curb_weight          205 non-null int64\n",
      "engine_type          205 non-null object\n",
      "num_cylinders        205 non-null object\n",
      "engine_size          205 non-null int64\n",
      "fuel_system          205 non-null object\n",
      "bore                 205 non-null object\n",
      "stroke               205 non-null object\n",
      "compression_ratio    205 non-null float64\n",
      "horsepower           205 non-null object\n",
      "peak_rpm             205 non-null object\n",
      "city_mpg             205 non-null int64\n",
      "highway_mpg          205 non-null int64\n",
      "price                205 non-null object\n",
      "dtypes: float64(5), int64(5), object(16)\n",
      "memory usage: 41.8+ KB\n"
     ]
    }
   ],
   "source": [
    "cars.info()"
   ]
  },
  {
   "cell_type": "markdown",
   "metadata": {},
   "source": [
    "#### Potentially numeric columns"
   ]
  },
  {
   "cell_type": "code",
   "execution_count": 7,
   "metadata": {
    "ExecuteTime": {
     "end_time": "2020-03-26T21:29:34.221426Z",
     "start_time": "2020-03-26T21:29:34.212021Z"
    }
   },
   "outputs": [],
   "source": [
    "numeric = cars.select_dtypes(object).iloc[:, -5:].columns.tolist()"
   ]
  },
  {
   "cell_type": "code",
   "execution_count": 8,
   "metadata": {
    "ExecuteTime": {
     "end_time": "2020-03-26T21:29:34.836864Z",
     "start_time": "2020-03-26T21:29:34.830029Z"
    }
   },
   "outputs": [],
   "source": [
    "numeric.append('normalized_losses')"
   ]
  },
  {
   "cell_type": "code",
   "execution_count": 9,
   "metadata": {
    "ExecuteTime": {
     "end_time": "2020-03-26T21:29:35.575986Z",
     "start_time": "2020-03-26T21:29:35.519445Z"
    },
    "collapsed": true
   },
   "outputs": [
    {
     "name": "stdout",
     "output_type": "stream",
     "text": [
      "   peak_rpm  city_mpg  highway_mpg  price  \\\n",
      "55     6000        17           23  10945   \n",
      "56     6000        17           23  11845   \n",
      "57     6000        17           23  13645   \n",
      "58     6000        16           23  15645   \n",
      "\n",
      "                                           bore_str  \n",
      "55  <_sre.SRE_Match object; span=(0, 1), match='?'>  \n",
      "56  <_sre.SRE_Match object; span=(0, 1), match='?'>  \n",
      "57  <_sre.SRE_Match object; span=(0, 1), match='?'>  \n",
      "58  <_sre.SRE_Match object; span=(0, 1), match='?'>  \n",
      "   peak_rpm  city_mpg  highway_mpg  price  \\\n",
      "55     6000        17           23  10945   \n",
      "56     6000        17           23  11845   \n",
      "57     6000        17           23  13645   \n",
      "58     6000        16           23  15645   \n",
      "\n",
      "                                         stroke_str  \n",
      "55  <_sre.SRE_Match object; span=(0, 1), match='?'>  \n",
      "56  <_sre.SRE_Match object; span=(0, 1), match='?'>  \n",
      "57  <_sre.SRE_Match object; span=(0, 1), match='?'>  \n",
      "58  <_sre.SRE_Match object; span=(0, 1), match='?'>  \n",
      "    peak_rpm  city_mpg  highway_mpg price  \\\n",
      "130        ?        23           31  9295   \n",
      "131        ?        23           31  9895   \n",
      "\n",
      "                                      horsepower_str  \n",
      "130  <_sre.SRE_Match object; span=(0, 1), match='?'>  \n",
      "131  <_sre.SRE_Match object; span=(0, 1), match='?'>  \n",
      "    peak_rpm  city_mpg  highway_mpg price  \\\n",
      "130        ?        23           31  9295   \n",
      "131        ?        23           31  9895   \n",
      "\n",
      "                                        peak_rpm_str  \n",
      "130  <_sre.SRE_Match object; span=(0, 1), match='?'>  \n",
      "131  <_sre.SRE_Match object; span=(0, 1), match='?'>  \n",
      "    peak_rpm  city_mpg  highway_mpg price  \\\n",
      "9       5500        16           22     ?   \n",
      "44      5400        38           43     ?   \n",
      "45      5400        38           43     ?   \n",
      "129     5750        17           28     ?   \n",
      "\n",
      "                                           price_str  \n",
      "9    <_sre.SRE_Match object; span=(0, 1), match='?'>  \n",
      "44   <_sre.SRE_Match object; span=(0, 1), match='?'>  \n",
      "45   <_sre.SRE_Match object; span=(0, 1), match='?'>  \n",
      "129  <_sre.SRE_Match object; span=(0, 1), match='?'>  \n",
      "    peak_rpm  city_mpg  highway_mpg  price  \\\n",
      "0       5000        21           27  13495   \n",
      "1       5000        21           27  16500   \n",
      "2       5000        19           26  16500   \n",
      "5       5500        19           25  15250   \n",
      "7       5500        19           25  18920   \n",
      "9       5500        16           22      ?   \n",
      "14      4250        20           25  24565   \n",
      "15      5400        16           22  30760   \n",
      "16      5400        16           22  41315   \n",
      "17      5400        15           20  36880   \n",
      "43      4800        24           29   6785   \n",
      "44      5400        38           43      ?   \n",
      "45      5400        38           43      ?   \n",
      "46      5000        24           29  11048   \n",
      "48      4750        15           19  35550   \n",
      "49      5000        13           17  36000   \n",
      "63      4650        36           42  10795   \n",
      "66      4200        31           39  18344   \n",
      "71      4750        16           18  34184   \n",
      "73      4500        14           16  40960   \n",
      "74      4500        14           16  45400   \n",
      "75      5000        19           24  16503   \n",
      "82      5000        19           24  12629   \n",
      "83      5000        19           24  14869   \n",
      "84      5000        19           24  14489   \n",
      "109     5000        19           24  12440   \n",
      "110     4150        25           25  13860   \n",
      "113     5000        19           24  16695   \n",
      "114     4150        25           25  17075   \n",
      "124     5000        19           24  12764   \n",
      "126     5900        17           25  32528   \n",
      "127     5900        17           25  34028   \n",
      "128     5900        17           25  37028   \n",
      "129     5750        17           28      ?   \n",
      "130        ?        23           31   9295   \n",
      "131        ?        23           31   9895   \n",
      "181     5200        19           24  15750   \n",
      "189     5500        24           29  11595   \n",
      "191     5500        19           24  13295   \n",
      "192     4500        33           38  13845   \n",
      "193     5500        25           31  12290   \n",
      "\n",
      "                               normalized_losses_str  \n",
      "0    <_sre.SRE_Match object; span=(0, 1), match='?'>  \n",
      "1    <_sre.SRE_Match object; span=(0, 1), match='?'>  \n",
      "2    <_sre.SRE_Match object; span=(0, 1), match='?'>  \n",
      "5    <_sre.SRE_Match object; span=(0, 1), match='?'>  \n",
      "7    <_sre.SRE_Match object; span=(0, 1), match='?'>  \n",
      "9    <_sre.SRE_Match object; span=(0, 1), match='?'>  \n",
      "14   <_sre.SRE_Match object; span=(0, 1), match='?'>  \n",
      "15   <_sre.SRE_Match object; span=(0, 1), match='?'>  \n",
      "16   <_sre.SRE_Match object; span=(0, 1), match='?'>  \n",
      "17   <_sre.SRE_Match object; span=(0, 1), match='?'>  \n",
      "43   <_sre.SRE_Match object; span=(0, 1), match='?'>  \n",
      "44   <_sre.SRE_Match object; span=(0, 1), match='?'>  \n",
      "45   <_sre.SRE_Match object; span=(0, 1), match='?'>  \n",
      "46   <_sre.SRE_Match object; span=(0, 1), match='?'>  \n",
      "48   <_sre.SRE_Match object; span=(0, 1), match='?'>  \n",
      "49   <_sre.SRE_Match object; span=(0, 1), match='?'>  \n",
      "63   <_sre.SRE_Match object; span=(0, 1), match='?'>  \n",
      "66   <_sre.SRE_Match object; span=(0, 1), match='?'>  \n",
      "71   <_sre.SRE_Match object; span=(0, 1), match='?'>  \n",
      "73   <_sre.SRE_Match object; span=(0, 1), match='?'>  \n",
      "74   <_sre.SRE_Match object; span=(0, 1), match='?'>  \n",
      "75   <_sre.SRE_Match object; span=(0, 1), match='?'>  \n",
      "82   <_sre.SRE_Match object; span=(0, 1), match='?'>  \n",
      "83   <_sre.SRE_Match object; span=(0, 1), match='?'>  \n",
      "84   <_sre.SRE_Match object; span=(0, 1), match='?'>  \n",
      "109  <_sre.SRE_Match object; span=(0, 1), match='?'>  \n",
      "110  <_sre.SRE_Match object; span=(0, 1), match='?'>  \n",
      "113  <_sre.SRE_Match object; span=(0, 1), match='?'>  \n",
      "114  <_sre.SRE_Match object; span=(0, 1), match='?'>  \n",
      "124  <_sre.SRE_Match object; span=(0, 1), match='?'>  \n",
      "126  <_sre.SRE_Match object; span=(0, 1), match='?'>  \n",
      "127  <_sre.SRE_Match object; span=(0, 1), match='?'>  \n",
      "128  <_sre.SRE_Match object; span=(0, 1), match='?'>  \n",
      "129  <_sre.SRE_Match object; span=(0, 1), match='?'>  \n",
      "130  <_sre.SRE_Match object; span=(0, 1), match='?'>  \n",
      "131  <_sre.SRE_Match object; span=(0, 1), match='?'>  \n",
      "181  <_sre.SRE_Match object; span=(0, 1), match='?'>  \n",
      "189  <_sre.SRE_Match object; span=(0, 1), match='?'>  \n",
      "191  <_sre.SRE_Match object; span=(0, 1), match='?'>  \n",
      "192  <_sre.SRE_Match object; span=(0, 1), match='?'>  \n",
      "193  <_sre.SRE_Match object; span=(0, 1), match='?'>  \n"
     ]
    }
   ],
   "source": [
    "for col in numeric:\n",
    "    col_name = '{}_str'.format(col)\n",
    "    cars[col_name] = cars[col].apply(lambda val: re.match('[^0-9.]', val))\n",
    "    print(cars[~cars[col_name].isna()].iloc[:, -5:])\n",
    "    cars.drop('{}_str'.format(col), axis=1, inplace=True)"
   ]
  },
  {
   "cell_type": "code",
   "execution_count": 10,
   "metadata": {
    "ExecuteTime": {
     "end_time": "2020-03-26T21:29:46.083928Z",
     "start_time": "2020-03-26T21:29:46.078068Z"
    }
   },
   "outputs": [],
   "source": [
    "for col in numeric:\n",
    "    cars[col] = cars[col].replace('?', np.nan)"
   ]
  },
  {
   "cell_type": "code",
   "execution_count": 11,
   "metadata": {
    "ExecuteTime": {
     "end_time": "2020-03-26T21:29:47.264378Z",
     "start_time": "2020-03-26T21:29:47.245055Z"
    }
   },
   "outputs": [],
   "source": [
    "cars[numeric] = cars[numeric].astype('float')"
   ]
  },
  {
   "cell_type": "code",
   "execution_count": 12,
   "metadata": {
    "ExecuteTime": {
     "end_time": "2020-03-26T21:29:48.104650Z",
     "start_time": "2020-03-26T21:29:48.087789Z"
    }
   },
   "outputs": [
    {
     "data": {
      "text/plain": [
       "symboling             0\n",
       "normalized_losses    41\n",
       "make                  0\n",
       "fuel_type             0\n",
       "aspiration            0\n",
       "num_doors             0\n",
       "body_style            0\n",
       "drive_wheels          0\n",
       "engine_location       0\n",
       "wheel_base            0\n",
       "length                0\n",
       "width                 0\n",
       "height                0\n",
       "curb_weight           0\n",
       "engine_type           0\n",
       "num_cylinders         0\n",
       "engine_size           0\n",
       "fuel_system           0\n",
       "bore                  4\n",
       "stroke                4\n",
       "compression_ratio     0\n",
       "horsepower            2\n",
       "peak_rpm              2\n",
       "city_mpg              0\n",
       "highway_mpg           0\n",
       "price                 4\n",
       "dtype: int64"
      ]
     },
     "execution_count": 12,
     "metadata": {},
     "output_type": "execute_result"
    }
   ],
   "source": [
    "cars.isna().sum()"
   ]
  },
  {
   "cell_type": "code",
   "execution_count": 13,
   "metadata": {
    "ExecuteTime": {
     "end_time": "2020-03-26T21:29:52.234314Z",
     "start_time": "2020-03-26T21:29:52.224089Z"
    }
   },
   "outputs": [],
   "source": [
    "cars.dropna(axis=0, subset=['bore', 'stroke', 'horsepower', 'peak_rpm', 'price'], inplace=True)\n",
    "cars.drop(['normalized_losses'], axis=1, inplace=True)"
   ]
  },
  {
   "cell_type": "markdown",
   "metadata": {
    "collapsed": true
   },
   "source": [
    "### Normalizing values"
   ]
  },
  {
   "cell_type": "code",
   "execution_count": 15,
   "metadata": {
    "ExecuteTime": {
     "end_time": "2020-03-26T21:30:25.251937Z",
     "start_time": "2020-03-26T21:30:25.195077Z"
    }
   },
   "outputs": [
    {
     "data": {
      "text/html": [
       "<div>\n",
       "<style scoped>\n",
       "    .dataframe tbody tr th:only-of-type {\n",
       "        vertical-align: middle;\n",
       "    }\n",
       "\n",
       "    .dataframe tbody tr th {\n",
       "        vertical-align: top;\n",
       "    }\n",
       "\n",
       "    .dataframe thead th {\n",
       "        text-align: right;\n",
       "    }\n",
       "</style>\n",
       "<table border=\"1\" class=\"dataframe\">\n",
       "  <thead>\n",
       "    <tr style=\"text-align: right;\">\n",
       "      <th></th>\n",
       "      <th>symboling</th>\n",
       "      <th>wheel_base</th>\n",
       "      <th>length</th>\n",
       "      <th>width</th>\n",
       "      <th>height</th>\n",
       "      <th>curb_weight</th>\n",
       "      <th>engine_size</th>\n",
       "      <th>bore</th>\n",
       "      <th>stroke</th>\n",
       "      <th>compression_ratio</th>\n",
       "      <th>horsepower</th>\n",
       "      <th>peak_rpm</th>\n",
       "      <th>city_mpg</th>\n",
       "      <th>highway_mpg</th>\n",
       "    </tr>\n",
       "  </thead>\n",
       "  <tbody>\n",
       "    <tr>\n",
       "      <td>0</td>\n",
       "      <td>1.0</td>\n",
       "      <td>0.058309</td>\n",
       "      <td>0.413433</td>\n",
       "      <td>0.324786</td>\n",
       "      <td>0.083333</td>\n",
       "      <td>0.411171</td>\n",
       "      <td>0.260377</td>\n",
       "      <td>0.664286</td>\n",
       "      <td>0.290476</td>\n",
       "      <td>0.12500</td>\n",
       "      <td>0.294393</td>\n",
       "      <td>0.346939</td>\n",
       "      <td>0.222222</td>\n",
       "      <td>0.289474</td>\n",
       "    </tr>\n",
       "    <tr>\n",
       "      <td>1</td>\n",
       "      <td>1.0</td>\n",
       "      <td>0.058309</td>\n",
       "      <td>0.413433</td>\n",
       "      <td>0.324786</td>\n",
       "      <td>0.083333</td>\n",
       "      <td>0.411171</td>\n",
       "      <td>0.260377</td>\n",
       "      <td>0.664286</td>\n",
       "      <td>0.290476</td>\n",
       "      <td>0.12500</td>\n",
       "      <td>0.294393</td>\n",
       "      <td>0.346939</td>\n",
       "      <td>0.222222</td>\n",
       "      <td>0.289474</td>\n",
       "    </tr>\n",
       "    <tr>\n",
       "      <td>2</td>\n",
       "      <td>0.6</td>\n",
       "      <td>0.230321</td>\n",
       "      <td>0.449254</td>\n",
       "      <td>0.444444</td>\n",
       "      <td>0.383333</td>\n",
       "      <td>0.517843</td>\n",
       "      <td>0.343396</td>\n",
       "      <td>0.100000</td>\n",
       "      <td>0.666667</td>\n",
       "      <td>0.12500</td>\n",
       "      <td>0.495327</td>\n",
       "      <td>0.346939</td>\n",
       "      <td>0.166667</td>\n",
       "      <td>0.263158</td>\n",
       "    </tr>\n",
       "    <tr>\n",
       "      <td>3</td>\n",
       "      <td>0.8</td>\n",
       "      <td>0.384840</td>\n",
       "      <td>0.529851</td>\n",
       "      <td>0.504274</td>\n",
       "      <td>0.541667</td>\n",
       "      <td>0.329325</td>\n",
       "      <td>0.181132</td>\n",
       "      <td>0.464286</td>\n",
       "      <td>0.633333</td>\n",
       "      <td>0.18750</td>\n",
       "      <td>0.252336</td>\n",
       "      <td>0.551020</td>\n",
       "      <td>0.305556</td>\n",
       "      <td>0.368421</td>\n",
       "    </tr>\n",
       "    <tr>\n",
       "      <td>4</td>\n",
       "      <td>0.8</td>\n",
       "      <td>0.373178</td>\n",
       "      <td>0.529851</td>\n",
       "      <td>0.521368</td>\n",
       "      <td>0.541667</td>\n",
       "      <td>0.518231</td>\n",
       "      <td>0.283019</td>\n",
       "      <td>0.464286</td>\n",
       "      <td>0.633333</td>\n",
       "      <td>0.06250</td>\n",
       "      <td>0.313084</td>\n",
       "      <td>0.551020</td>\n",
       "      <td>0.138889</td>\n",
       "      <td>0.157895</td>\n",
       "    </tr>\n",
       "    <tr>\n",
       "      <td>...</td>\n",
       "      <td>...</td>\n",
       "      <td>...</td>\n",
       "      <td>...</td>\n",
       "      <td>...</td>\n",
       "      <td>...</td>\n",
       "      <td>...</td>\n",
       "      <td>...</td>\n",
       "      <td>...</td>\n",
       "      <td>...</td>\n",
       "      <td>...</td>\n",
       "      <td>...</td>\n",
       "      <td>...</td>\n",
       "      <td>...</td>\n",
       "      <td>...</td>\n",
       "    </tr>\n",
       "    <tr>\n",
       "      <td>200</td>\n",
       "      <td>0.2</td>\n",
       "      <td>0.655977</td>\n",
       "      <td>0.711940</td>\n",
       "      <td>0.735043</td>\n",
       "      <td>0.641667</td>\n",
       "      <td>0.567882</td>\n",
       "      <td>0.301887</td>\n",
       "      <td>0.885714</td>\n",
       "      <td>0.514286</td>\n",
       "      <td>0.15625</td>\n",
       "      <td>0.308411</td>\n",
       "      <td>0.510204</td>\n",
       "      <td>0.277778</td>\n",
       "      <td>0.315789</td>\n",
       "    </tr>\n",
       "    <tr>\n",
       "      <td>201</td>\n",
       "      <td>0.2</td>\n",
       "      <td>0.655977</td>\n",
       "      <td>0.711940</td>\n",
       "      <td>0.726496</td>\n",
       "      <td>0.641667</td>\n",
       "      <td>0.605508</td>\n",
       "      <td>0.301887</td>\n",
       "      <td>0.885714</td>\n",
       "      <td>0.514286</td>\n",
       "      <td>0.10625</td>\n",
       "      <td>0.523364</td>\n",
       "      <td>0.469388</td>\n",
       "      <td>0.166667</td>\n",
       "      <td>0.236842</td>\n",
       "    </tr>\n",
       "    <tr>\n",
       "      <td>202</td>\n",
       "      <td>0.2</td>\n",
       "      <td>0.655977</td>\n",
       "      <td>0.711940</td>\n",
       "      <td>0.735043</td>\n",
       "      <td>0.641667</td>\n",
       "      <td>0.591156</td>\n",
       "      <td>0.422642</td>\n",
       "      <td>0.742857</td>\n",
       "      <td>0.380952</td>\n",
       "      <td>0.11250</td>\n",
       "      <td>0.401869</td>\n",
       "      <td>0.551020</td>\n",
       "      <td>0.138889</td>\n",
       "      <td>0.184211</td>\n",
       "    </tr>\n",
       "    <tr>\n",
       "      <td>203</td>\n",
       "      <td>0.2</td>\n",
       "      <td>0.655977</td>\n",
       "      <td>0.711940</td>\n",
       "      <td>0.735043</td>\n",
       "      <td>0.641667</td>\n",
       "      <td>0.670675</td>\n",
       "      <td>0.316981</td>\n",
       "      <td>0.335714</td>\n",
       "      <td>0.633333</td>\n",
       "      <td>1.00000</td>\n",
       "      <td>0.271028</td>\n",
       "      <td>0.265306</td>\n",
       "      <td>0.361111</td>\n",
       "      <td>0.289474</td>\n",
       "    </tr>\n",
       "    <tr>\n",
       "      <td>204</td>\n",
       "      <td>0.2</td>\n",
       "      <td>0.655977</td>\n",
       "      <td>0.711940</td>\n",
       "      <td>0.735043</td>\n",
       "      <td>0.641667</td>\n",
       "      <td>0.610551</td>\n",
       "      <td>0.301887</td>\n",
       "      <td>0.885714</td>\n",
       "      <td>0.514286</td>\n",
       "      <td>0.15625</td>\n",
       "      <td>0.308411</td>\n",
       "      <td>0.510204</td>\n",
       "      <td>0.166667</td>\n",
       "      <td>0.236842</td>\n",
       "    </tr>\n",
       "  </tbody>\n",
       "</table>\n",
       "<p>195 rows × 14 columns</p>\n",
       "</div>"
      ],
      "text/plain": [
       "     symboling  wheel_base    length     width    height  curb_weight  \\\n",
       "0          1.0    0.058309  0.413433  0.324786  0.083333     0.411171   \n",
       "1          1.0    0.058309  0.413433  0.324786  0.083333     0.411171   \n",
       "2          0.6    0.230321  0.449254  0.444444  0.383333     0.517843   \n",
       "3          0.8    0.384840  0.529851  0.504274  0.541667     0.329325   \n",
       "4          0.8    0.373178  0.529851  0.521368  0.541667     0.518231   \n",
       "..         ...         ...       ...       ...       ...          ...   \n",
       "200        0.2    0.655977  0.711940  0.735043  0.641667     0.567882   \n",
       "201        0.2    0.655977  0.711940  0.726496  0.641667     0.605508   \n",
       "202        0.2    0.655977  0.711940  0.735043  0.641667     0.591156   \n",
       "203        0.2    0.655977  0.711940  0.735043  0.641667     0.670675   \n",
       "204        0.2    0.655977  0.711940  0.735043  0.641667     0.610551   \n",
       "\n",
       "     engine_size      bore    stroke  compression_ratio  horsepower  peak_rpm  \\\n",
       "0       0.260377  0.664286  0.290476            0.12500    0.294393  0.346939   \n",
       "1       0.260377  0.664286  0.290476            0.12500    0.294393  0.346939   \n",
       "2       0.343396  0.100000  0.666667            0.12500    0.495327  0.346939   \n",
       "3       0.181132  0.464286  0.633333            0.18750    0.252336  0.551020   \n",
       "4       0.283019  0.464286  0.633333            0.06250    0.313084  0.551020   \n",
       "..           ...       ...       ...                ...         ...       ...   \n",
       "200     0.301887  0.885714  0.514286            0.15625    0.308411  0.510204   \n",
       "201     0.301887  0.885714  0.514286            0.10625    0.523364  0.469388   \n",
       "202     0.422642  0.742857  0.380952            0.11250    0.401869  0.551020   \n",
       "203     0.316981  0.335714  0.633333            1.00000    0.271028  0.265306   \n",
       "204     0.301887  0.885714  0.514286            0.15625    0.308411  0.510204   \n",
       "\n",
       "     city_mpg  highway_mpg  \n",
       "0    0.222222     0.289474  \n",
       "1    0.222222     0.289474  \n",
       "2    0.166667     0.263158  \n",
       "3    0.305556     0.368421  \n",
       "4    0.138889     0.157895  \n",
       "..        ...          ...  \n",
       "200  0.277778     0.315789  \n",
       "201  0.166667     0.236842  \n",
       "202  0.138889     0.184211  \n",
       "203  0.361111     0.289474  \n",
       "204  0.166667     0.236842  \n",
       "\n",
       "[195 rows x 14 columns]"
      ]
     },
     "execution_count": 15,
     "metadata": {},
     "output_type": "execute_result"
    }
   ],
   "source": [
    "numeric_sub = cars.select_dtypes([float, int]).drop(['price'], axis=1)\n",
    "numeric_sub = (numeric_sub - numeric_sub.min())/(numeric_sub.max() - numeric_sub.min())\n",
    "numeric_sub"
   ]
  },
  {
   "cell_type": "code",
   "execution_count": 16,
   "metadata": {
    "ExecuteTime": {
     "end_time": "2020-03-26T21:30:34.665012Z",
     "start_time": "2020-03-26T21:30:34.654730Z"
    }
   },
   "outputs": [
    {
     "data": {
      "text/plain": [
       "symboling            0\n",
       "make                 0\n",
       "fuel_type            0\n",
       "aspiration           0\n",
       "num_doors            0\n",
       "body_style           0\n",
       "drive_wheels         0\n",
       "engine_location      0\n",
       "wheel_base           0\n",
       "length               0\n",
       "width                0\n",
       "height               0\n",
       "curb_weight          0\n",
       "engine_type          0\n",
       "num_cylinders        0\n",
       "engine_size          0\n",
       "fuel_system          0\n",
       "bore                 0\n",
       "stroke               0\n",
       "compression_ratio    0\n",
       "horsepower           0\n",
       "peak_rpm             0\n",
       "city_mpg             0\n",
       "highway_mpg          0\n",
       "price                0\n",
       "dtype: int64"
      ]
     },
     "execution_count": 16,
     "metadata": {},
     "output_type": "execute_result"
    }
   ],
   "source": [
    "cars.isna().sum()"
   ]
  },
  {
   "cell_type": "code",
   "execution_count": 17,
   "metadata": {
    "ExecuteTime": {
     "end_time": "2020-03-26T21:30:41.460801Z",
     "start_time": "2020-03-26T21:30:41.455355Z"
    }
   },
   "outputs": [],
   "source": [
    "data = pd.concat([numeric_sub, cars[['price']]], axis=1)"
   ]
  },
  {
   "cell_type": "markdown",
   "metadata": {},
   "source": [
    "### K-neighbors model"
   ]
  },
  {
   "cell_type": "code",
   "execution_count": 18,
   "metadata": {
    "ExecuteTime": {
     "end_time": "2020-03-26T21:30:51.869199Z",
     "start_time": "2020-03-26T21:30:51.851126Z"
    }
   },
   "outputs": [],
   "source": [
    "def knn_train_test(ftr_cols, target_col, data, **kwargs):\n",
    "    # split data to train and test datasets\n",
    "    shp = data.shape[0]\n",
    "    train_shp = 3*shp//4\n",
    "    train = data.iloc[:train_shp]\n",
    "    test = data.iloc[train_shp:]\n",
    "    x_train, y_train = train[ftr_cols], train[target_col]\n",
    "    x_test, y_test = test[ftr_cols], test[target_col]\n",
    "    # instatinate & fit KNN model\n",
    "    fold = KFold(5, shuffle=True, random_state=1)\n",
    "    knn = KNeighborsRegressor(**kwargs)\n",
    "    mses = cross_val_score(knn, data[ftr_cols], data['price'],\n",
    "                           scoring='neg_mean_squared_error', cv=fold)\n",
    "    sqrt_avg_err = np.sqrt(abs(np.mean(mses)))\n",
    "    return sqrt_avg_err"
   ]
  },
  {
   "cell_type": "code",
   "execution_count": 68,
   "metadata": {
    "ExecuteTime": {
     "end_time": "2020-03-26T21:49:48.822125Z",
     "start_time": "2020-03-26T21:49:48.794249Z"
    }
   },
   "outputs": [],
   "source": [
    "err = knn_train_test(['horsepower'], ['price'], data, n_neighbors=2)"
   ]
  },
  {
   "cell_type": "code",
   "execution_count": 69,
   "metadata": {
    "ExecuteTime": {
     "end_time": "2020-03-26T21:49:50.539711Z",
     "start_time": "2020-03-26T21:49:50.527987Z"
    }
   },
   "outputs": [
    {
     "data": {
      "text/plain": [
       "4230.095075612125"
      ]
     },
     "execution_count": 69,
     "metadata": {},
     "output_type": "execute_result"
    }
   ],
   "source": [
    "err"
   ]
  },
  {
   "cell_type": "markdown",
   "metadata": {},
   "source": [
    "### univariate models for various no. of neighbors"
   ]
  },
  {
   "cell_type": "code",
   "execution_count": 70,
   "metadata": {
    "ExecuteTime": {
     "end_time": "2020-03-26T21:49:53.709005Z",
     "start_time": "2020-03-26T21:49:52.336389Z"
    }
   },
   "outputs": [],
   "source": [
    "errors = defaultdict(dict)\n",
    "for k in range(1,11,2):\n",
    "    for col in data.columns[:-1]:\n",
    "        err = knn_train_test([col], 'price', data, n_neighbors=k)\n",
    "        errors[col][k] = err\n",
    "\n",
    "errors = pd.DataFrame.from_dict(errors)"
   ]
  },
  {
   "cell_type": "code",
   "execution_count": 71,
   "metadata": {
    "ExecuteTime": {
     "end_time": "2020-03-26T21:49:53.837623Z",
     "start_time": "2020-03-26T21:49:53.815189Z"
    }
   },
   "outputs": [
    {
     "data": {
      "text/html": [
       "<div>\n",
       "<style scoped>\n",
       "    .dataframe tbody tr th:only-of-type {\n",
       "        vertical-align: middle;\n",
       "    }\n",
       "\n",
       "    .dataframe tbody tr th {\n",
       "        vertical-align: top;\n",
       "    }\n",
       "\n",
       "    .dataframe thead th {\n",
       "        text-align: right;\n",
       "    }\n",
       "</style>\n",
       "<table border=\"1\" class=\"dataframe\">\n",
       "  <thead>\n",
       "    <tr style=\"text-align: right;\">\n",
       "      <th></th>\n",
       "      <th>symboling</th>\n",
       "      <th>wheel_base</th>\n",
       "      <th>length</th>\n",
       "      <th>width</th>\n",
       "      <th>height</th>\n",
       "      <th>curb_weight</th>\n",
       "      <th>engine_size</th>\n",
       "      <th>bore</th>\n",
       "      <th>stroke</th>\n",
       "      <th>compression_ratio</th>\n",
       "      <th>horsepower</th>\n",
       "      <th>peak_rpm</th>\n",
       "      <th>city_mpg</th>\n",
       "      <th>highway_mpg</th>\n",
       "    </tr>\n",
       "  </thead>\n",
       "  <tbody>\n",
       "    <tr>\n",
       "      <td>1</td>\n",
       "      <td>9057.271838</td>\n",
       "      <td>4660.454616</td>\n",
       "      <td>5271.773883</td>\n",
       "      <td>5447.382875</td>\n",
       "      <td>9458.243848</td>\n",
       "      <td>5857.118634</td>\n",
       "      <td>3529.441228</td>\n",
       "      <td>6776.934372</td>\n",
       "      <td>8091.456688</td>\n",
       "      <td>7333.924128</td>\n",
       "      <td>4246.236375</td>\n",
       "      <td>9523.438475</td>\n",
       "      <td>4688.905617</td>\n",
       "      <td>5503.768240</td>\n",
       "    </tr>\n",
       "    <tr>\n",
       "      <td>3</td>\n",
       "      <td>8977.505298</td>\n",
       "      <td>5537.598016</td>\n",
       "      <td>5046.749369</td>\n",
       "      <td>4269.443350</td>\n",
       "      <td>8145.689876</td>\n",
       "      <td>5088.010900</td>\n",
       "      <td>3182.448344</td>\n",
       "      <td>6129.007565</td>\n",
       "      <td>7243.305916</td>\n",
       "      <td>6609.266750</td>\n",
       "      <td>4263.176230</td>\n",
       "      <td>8347.978805</td>\n",
       "      <td>4140.648732</td>\n",
       "      <td>4513.496261</td>\n",
       "    </tr>\n",
       "    <tr>\n",
       "      <td>5</td>\n",
       "      <td>9471.813520</td>\n",
       "      <td>6016.720360</td>\n",
       "      <td>4989.034035</td>\n",
       "      <td>4700.645766</td>\n",
       "      <td>7557.173803</td>\n",
       "      <td>4585.555508</td>\n",
       "      <td>3210.731247</td>\n",
       "      <td>6895.490677</td>\n",
       "      <td>7129.364007</td>\n",
       "      <td>6548.182468</td>\n",
       "      <td>4263.156443</td>\n",
       "      <td>7820.141075</td>\n",
       "      <td>3896.072731</td>\n",
       "      <td>4190.121747</td>\n",
       "    </tr>\n",
       "    <tr>\n",
       "      <td>7</td>\n",
       "      <td>9481.290603</td>\n",
       "      <td>6007.109689</td>\n",
       "      <td>5316.757319</td>\n",
       "      <td>4711.725483</td>\n",
       "      <td>7546.959829</td>\n",
       "      <td>4377.807497</td>\n",
       "      <td>3458.502790</td>\n",
       "      <td>6796.793692</td>\n",
       "      <td>7256.942881</td>\n",
       "      <td>6430.671788</td>\n",
       "      <td>4362.736770</td>\n",
       "      <td>7845.848143</td>\n",
       "      <td>4133.320860</td>\n",
       "      <td>4166.091813</td>\n",
       "    </tr>\n",
       "    <tr>\n",
       "      <td>9</td>\n",
       "      <td>9291.871029</td>\n",
       "      <td>6072.200639</td>\n",
       "      <td>5530.379419</td>\n",
       "      <td>4602.302802</td>\n",
       "      <td>7607.202856</td>\n",
       "      <td>4233.528964</td>\n",
       "      <td>3333.125788</td>\n",
       "      <td>6880.914489</td>\n",
       "      <td>7354.055826</td>\n",
       "      <td>6584.533908</td>\n",
       "      <td>4427.335765</td>\n",
       "      <td>7622.196792</td>\n",
       "      <td>4323.084573</td>\n",
       "      <td>4204.920048</td>\n",
       "    </tr>\n",
       "  </tbody>\n",
       "</table>\n",
       "</div>"
      ],
      "text/plain": [
       "     symboling   wheel_base       length        width       height  \\\n",
       "1  9057.271838  4660.454616  5271.773883  5447.382875  9458.243848   \n",
       "3  8977.505298  5537.598016  5046.749369  4269.443350  8145.689876   \n",
       "5  9471.813520  6016.720360  4989.034035  4700.645766  7557.173803   \n",
       "7  9481.290603  6007.109689  5316.757319  4711.725483  7546.959829   \n",
       "9  9291.871029  6072.200639  5530.379419  4602.302802  7607.202856   \n",
       "\n",
       "   curb_weight  engine_size         bore       stroke  compression_ratio  \\\n",
       "1  5857.118634  3529.441228  6776.934372  8091.456688        7333.924128   \n",
       "3  5088.010900  3182.448344  6129.007565  7243.305916        6609.266750   \n",
       "5  4585.555508  3210.731247  6895.490677  7129.364007        6548.182468   \n",
       "7  4377.807497  3458.502790  6796.793692  7256.942881        6430.671788   \n",
       "9  4233.528964  3333.125788  6880.914489  7354.055826        6584.533908   \n",
       "\n",
       "    horsepower     peak_rpm     city_mpg  highway_mpg  \n",
       "1  4246.236375  9523.438475  4688.905617  5503.768240  \n",
       "3  4263.176230  8347.978805  4140.648732  4513.496261  \n",
       "5  4263.156443  7820.141075  3896.072731  4190.121747  \n",
       "7  4362.736770  7845.848143  4133.320860  4166.091813  \n",
       "9  4427.335765  7622.196792  4323.084573  4204.920048  "
      ]
     },
     "execution_count": 71,
     "metadata": {},
     "output_type": "execute_result"
    }
   ],
   "source": [
    "errors"
   ]
  },
  {
   "cell_type": "code",
   "execution_count": 72,
   "metadata": {
    "ExecuteTime": {
     "end_time": "2020-03-26T21:49:54.400905Z",
     "start_time": "2020-03-26T21:49:53.927281Z"
    }
   },
   "outputs": [
    {
     "data": {
      "image/png": "[encoded data removed]",
      "text/plain": [
       "<Figure size 1440x720 with 2 Axes>"
      ]
     },
     "metadata": {
      "needs_background": "light"
     },
     "output_type": "display_data"
    }
   ],
   "source": [
    "fig = plt.figure(figsize=(20,10))\n",
    "plt.imshow(errors)\n",
    "plt.figsize = (20,10)\n",
    "plt.colorbar(label='RMSE')\n",
    "plt.yticks(np.arange(5), errors.index.values);\n",
    "plt.xticks(np.arange(len(errors.columns)), errors.columns);\n",
    "plt.ylabel('neighbors count', fontdict={'size':16})\n",
    "plt.tight_layout()\n",
    "plt.title('RMSE by feature & neighbors count');"
   ]
  },
  {
   "cell_type": "code",
   "execution_count": 73,
   "metadata": {
    "ExecuteTime": {
     "end_time": "2020-03-26T21:49:55.152752Z",
     "start_time": "2020-03-26T21:49:54.493571Z"
    }
   },
   "outputs": [
    {
     "data": {
      "image/png": "[encoded data removed]",
      "text/plain": [
       "<Figure size 1728x864 with 1 Axes>"
      ]
     },
     "metadata": {
      "needs_background": "light"
     },
     "output_type": "display_data"
    }
   ],
   "source": [
    "errors.T.plot(kind='bar', figsize=(24,12), fontsize=16, rot=75);\n",
    "plt.legend(fontsize=16, title='neighbors')\n",
    "plt.tight_layout()\n",
    "plt.ylabel('RMSE', fontdict={'size':16})\n",
    "plt.title('RMSE by feature & neighbors count');"
   ]
  },
  {
   "cell_type": "markdown",
   "metadata": {},
   "source": [
    "### multivariate model for best 5 features"
   ]
  },
  {
   "cell_type": "code",
   "execution_count": 74,
   "metadata": {
    "ExecuteTime": {
     "end_time": "2020-03-26T21:49:55.244133Z",
     "start_time": "2020-03-26T21:49:55.242070Z"
    }
   },
   "outputs": [],
   "source": [
    "# 5 best features ordered by score\n",
    "features = [\n",
    "    'engine_size',\n",
    "    'city_mpg',\n",
    "    'curb_weight',\n",
    "    'horsepower',\n",
    "    'width',\n",
    "]"
   ]
  },
  {
   "cell_type": "code",
   "execution_count": 75,
   "metadata": {
    "ExecuteTime": {
     "end_time": "2020-03-26T21:49:55.427419Z",
     "start_time": "2020-03-26T21:49:55.330418Z"
    }
   },
   "outputs": [],
   "source": [
    "# we will fit the model with 2, 3, 4 & 5 best features\n",
    "errors_multivariate = {}\n",
    "for ftr_no in range(2, 6):\n",
    "    ftr = features[:ftr_no]\n",
    "    err = knn_train_test(ftr, 'price', data)\n",
    "    errors_multivariate[ftr_no] = err"
   ]
  },
  {
   "cell_type": "code",
   "execution_count": 76,
   "metadata": {
    "ExecuteTime": {
     "end_time": "2020-03-26T21:49:55.516974Z",
     "start_time": "2020-03-26T21:49:55.513858Z"
    }
   },
   "outputs": [
    {
     "data": {
      "text/plain": [
       "{2: 3229.7553820843095,\n",
       " 3: 3284.801215419361,\n",
       " 4: 3207.423167718989,\n",
       " 5: 3406.906016931657}"
      ]
     },
     "execution_count": 76,
     "metadata": {},
     "output_type": "execute_result"
    }
   ],
   "source": [
    "errors_multivariate"
   ]
  },
  {
   "cell_type": "code",
   "execution_count": 77,
   "metadata": {
    "ExecuteTime": {
     "end_time": "2020-03-26T21:49:58.000968Z",
     "start_time": "2020-03-26T21:49:55.609853Z"
    }
   },
   "outputs": [],
   "source": [
    "# hyperparams optimization!! \n",
    "errors_multivariate = defaultdict(dict)\n",
    "for k in range(1, 26):\n",
    "    for ftr_no in range(1, 6):\n",
    "        ftr = features[:ftr_no]\n",
    "        err = knn_train_test(ftr, 'price', data, n_neighbors=k)\n",
    "        errors_multivariate[ftr_no][k] = err"
   ]
  },
  {
   "cell_type": "code",
   "execution_count": 78,
   "metadata": {
    "ExecuteTime": {
     "end_time": "2020-03-26T21:49:58.519795Z",
     "start_time": "2020-03-26T21:49:58.100448Z"
    }
   },
   "outputs": [
    {
     "data": {
      "image/png": "[encoded data removed]",
      "text/plain": [
       "<Figure size 1440x864 with 1 Axes>"
      ]
     },
     "metadata": {
      "needs_background": "light"
     },
     "output_type": "display_data"
    }
   ],
   "source": [
    "errs = pd.DataFrame.from_dict(errors_multivariate)\n",
    "errs.plot(figsize=(20,12));"
   ]
  },
  {
   "cell_type": "code",
   "execution_count": null,
   "metadata": {},
   "outputs": [],
   "source": []
  }
 ],
 "metadata": {
  "kernelspec": {
   "display_name": "data_general",
   "language": "python",
   "name": "data_general"
  },
  "language_info": {
   "codemirror_mode": {
    "name": "ipython",
    "version": 3
   },
   "file_extension": ".py",
   "mimetype": "text/x-python",
   "name": "python",
   "nbconvert_exporter": "python",
   "pygments_lexer": "ipython3",
   "version": "3.6.9"
  },
  "varInspector": {
   "cols": {
    "lenName": 16,
    "lenType": 16,
    "lenVar": 40
   },
   "kernels_config": {
    "python": {
     "delete_cmd_postfix": "",
     "delete_cmd_prefix": "del ",
     "library": "var_list.py",
     "varRefreshCmd": "print(var_dic_list())"
    },
    "r": {
     "delete_cmd_postfix": ") ",
     "delete_cmd_prefix": "rm(",
     "library": "var_list.r",
     "varRefreshCmd": "cat(var_dic_list()) "
    }
   },
   "types_to_exclude": [
    "module",
    "function",
    "builtin_function_or_method",
    "instance",
    "_Feature"
   ],
   "window_display": true
  }
 },
 "nbformat": 4,
 "nbformat_minor": 2
}
